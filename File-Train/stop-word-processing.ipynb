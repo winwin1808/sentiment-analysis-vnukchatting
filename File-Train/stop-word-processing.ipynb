{
 "cells": [
  {
   "cell_type": "code",
   "execution_count": 3,
   "metadata": {},
   "outputs": [
    {
     "name": "stdout",
     "output_type": "stream",
     "text": [
      "Stopwords removed and cleaned data saved to cleaned_data.csv\n"
     ]
    }
   ],
   "source": [
    "import pandas as pd\n",
    "\n",
    "# Function to load stopwords from a text file\n",
    "def load_stopwords(filepath):\n",
    "    with open(filepath, 'r', encoding='unicode_escape') as file:\n",
    "        stopwords = file.read().splitlines()\n",
    "    return set(stopwords)\n",
    "\n",
    "# Function to remove stopwords from a comment\n",
    "def remove_stopwords(comment, stopwords):\n",
    "    words = comment.split()\n",
    "    filtered_words = [word for word in words if word.lower() not in stopwords]\n",
    "    return ' '.join(filtered_words)\n",
    "\n",
    "# Load the data\n",
    "df = pd.read_csv('data - data.csv')\n",
    "\n",
    "# Load the Vietnamese stopwords\n",
    "stopwords = load_stopwords('vietnamese-stopwords.txt')\n",
    "\n",
    "# Remove stopwords from each comment\n",
    "df['comment'] = df['comment'].apply(lambda comment: remove_stopwords(comment, stopwords))\n",
    "\n",
    "# Save the cleaned data to a new CSV file\n",
    "df.to_csv('fresh_data.csv', index=False)\n",
    "\n",
    "print(\"Stopwords removed and cleaned data saved to cleaned_data.csv\")"
   ]
  }
 ],
 "metadata": {
  "kernelspec": {
   "display_name": "python38",
   "language": "python",
   "name": "python3"
  },
  "language_info": {
   "codemirror_mode": {
    "name": "ipython",
    "version": 3
   },
   "file_extension": ".py",
   "mimetype": "text/x-python",
   "name": "python",
   "nbconvert_exporter": "python",
   "pygments_lexer": "ipython3",
   "version": "3.8.18"
  }
 },
 "nbformat": 4,
 "nbformat_minor": 2
}
