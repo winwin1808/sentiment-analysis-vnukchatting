{
 "cells": [
  {
   "cell_type": "code",
   "execution_count": 1,
   "metadata": {},
   "outputs": [
    {
     "name": "stderr",
     "output_type": "stream",
     "text": [
      "c:\\Users\\ASUS\\anaconda3\\envs\\python39\\lib\\site-packages\\requests\\__init__.py:86: RequestsDependencyWarning: Unable to find acceptable character detection dependency (chardet or charset_normalizer).\n",
      "  warnings.warn(\n"
     ]
    }
   ],
   "source": [
    "import numpy as np\n",
    "import pandas as pd\n",
    "import matplotlib.pyplot as plt\n",
    "import seaborn as sns\n",
    "\n",
    "from sklearn.model_selection import train_test_split\n",
    "from sklearn.preprocessing import LabelEncoder\n",
    "from sklearn.metrics import accuracy_score, confusion_matrix\n",
    "\n",
    "import string\n",
    "import re\n",
    "\n",
    "from sklearn.feature_extraction.text import TfidfVectorizer\n",
    "from sklearn.feature_extraction.text import CountVectorizer\n",
    "from nltk.corpus import stopwords\n",
    "from nltk.stem import PorterStemmer\n",
    "\n",
    "from sklearn.linear_model import LogisticRegression\n",
    "from sklearn.naive_bayes import MultinomialNB\n",
    "\n",
    "from keras.utils import to_categorical\n",
    "from keras.preprocessing.text import Tokenizer\n",
    "from keras.preprocessing.sequence import pad_sequences\n",
    "from keras.layers import Dense , LSTM , Embedding\n",
    "from keras.models import Sequential\n",
    "from keras.callbacks import EarlyStopping\n",
    "\n",
    "import warnings\n",
    "warnings.filterwarnings('ignore')\n",
    "\n",
    "import pickle"
   ]
  },
  {
   "cell_type": "code",
   "execution_count": 2,
   "metadata": {},
   "outputs": [],
   "source": [
    "df = pd.read_csv('fresh_data.csv').drop(columns=['Unnamed: 3'])\n"
   ]
  },
  {
   "cell_type": "code",
   "execution_count": 3,
   "metadata": {},
   "outputs": [],
   "source": [
    "df = df[df['rate'] != 3]\n"
   ]
  },
  {
   "cell_type": "code",
   "execution_count": 4,
   "metadata": {},
   "outputs": [],
   "source": [
    "# Function to convert score to sentiment\n",
    "def to_sentiment(rating):\n",
    "    \n",
    "    rating = int(rating)\n",
    "    \n",
    "    # Convert to class\n",
    "    if rating <= 2:\n",
    "        return 0\n",
    "    else:\n",
    "        return 1\n",
    "\n",
    "# Apply to the dataset \n",
    "df['sentiment'] = df.rate.apply(to_sentiment)"
   ]
  },
  {
   "cell_type": "code",
   "execution_count": 5,
   "metadata": {},
   "outputs": [
    {
     "data": {
      "text/plain": [
       "Text(0.5, 0, 'review sentiment')"
      ]
     },
     "execution_count": 5,
     "metadata": {},
     "output_type": "execute_result"
    },
    {
     "data": {
      "image/png": "[encoded data removed]",
      "text/plain": [
       "<Figure size 640x480 with 1 Axes>"
      ]
     },
     "metadata": {},
     "output_type": "display_data"
    }
   ],
   "source": [
    "# # Plot the distribution\n",
    "class_names = ['negative', 'positive']\n",
    "'''\n",
    "- Tạo 2 class: Negative n Positive\n",
    "'''\n",
    "sns.countplot( x='sentiment',data = df)\n",
    "plt.xlabel('review sentiment')"
   ]
  },
  {
   "cell_type": "code",
   "execution_count": 6,
   "metadata": {},
   "outputs": [],
   "source": [
    "from sklearn.utils import resample\n",
    "\n",
    "df_majority = df[(df['sentiment'] == 1)]\n",
    "df_minority = df[(df['sentiment'] == 0)]\n",
    "\n",
    "df_minority_upsampled = resample(df_minority, \n",
    "                                 replace=True,    # sample with replacement\n",
    "                                 n_samples=20093, # to match majority class\n",
    "                                 random_state=42)\n",
    "\n",
    "df1 = pd.concat([df_minority_upsampled, df_majority])"
   ]
  },
  {
   "cell_type": "code",
   "execution_count": 7,
   "metadata": {},
   "outputs": [],
   "source": [
    "X = df1['comment']\n",
    "y = df1['sentiment']\n",
    "\n",
    "X_train, X_test, y_train, y_test = train_test_split(\n",
    "    \n",
    "    X, y, test_size=0.20, random_state=1,# stratify=y\n",
    "    \n",
    "    )"
   ]
  },
  {
   "cell_type": "code",
   "execution_count": 8,
   "metadata": {},
   "outputs": [
    {
     "data": {
      "text/plain": [
       "((32148,), (8038,))"
      ]
     },
     "execution_count": 8,
     "metadata": {},
     "output_type": "execute_result"
    }
   ],
   "source": [
    "X_train.shape, X_test.shape\n"
   ]
  },
  {
   "cell_type": "markdown",
   "metadata": {},
   "source": [
    "### Bag of Words Vectorizer"
   ]
  },
  {
   "cell_type": "code",
   "execution_count": 9,
   "metadata": {},
   "outputs": [],
   "source": [
    "bow_vectorizer = CountVectorizer(max_features=10000)\n",
    "bow_vectorizer.fit(X_train)\n",
    "\n",
    "# transform\n",
    "bow_X_train = bow_vectorizer.transform(X_train)\n",
    "bow_X_test = bow_vectorizer.transform(X_test)"
   ]
  },
  {
   "cell_type": "markdown",
   "metadata": {},
   "source": [
    "### TF-IDF Vectorizer"
   ]
  },
  {
   "cell_type": "code",
   "execution_count": 10,
   "metadata": {},
   "outputs": [],
   "source": [
    "tfidf_vectorizer = TfidfVectorizer(max_features=10000)\n",
    "tfidf_vectorizer.fit(X_train)\n",
    "\n",
    "# transform\n",
    "tfidf_X_train = tfidf_vectorizer.transform(X_train)\n",
    "tfidf_X_test = tfidf_vectorizer.transform(X_test)"
   ]
  },
  {
   "cell_type": "code",
   "execution_count": 11,
   "metadata": {},
   "outputs": [
    {
     "name": "stdout",
     "output_type": "stream",
     "text": [
      "[0, 1]\n"
     ]
    }
   ],
   "source": [
    "labelEncoder = LabelEncoder()\n",
    "\n",
    "y_train = labelEncoder.fit_transform(y_train)\n",
    "y_test = labelEncoder.transform(y_test)\n",
    "\n",
    "labels = labelEncoder.classes_.tolist()\n",
    "print(labels) # index-> class"
   ]
  },
  {
   "cell_type": "markdown",
   "metadata": {},
   "source": [
    "### Model Training"
   ]
  },
  {
   "cell_type": "code",
   "execution_count": 12,
   "metadata": {},
   "outputs": [],
   "source": [
    "### \n",
    "def train_and_eval(model, trainX, trainY, testX, testY):\n",
    "\n",
    "    # training\n",
    "    _ = model.fit(trainX, trainY)\n",
    "\n",
    "    # predictions\n",
    "    y_preds_train = model.predict(trainX)\n",
    "    y_preds_test = model.predict(testX)\n",
    "\n",
    "    # evaluation\n",
    "    print()\n",
    "    print(model)\n",
    "    print(f\"Train accuracy score : {round(accuracy_score(y_train, y_preds_train),2 )}\")\n",
    "    print(f\"Test accuracy score : {round(accuracy_score(y_test, y_preds_test),2)}\")\n",
    "    print('\\n',40*'-')"
   ]
  },
  {
   "cell_type": "markdown",
   "metadata": {},
   "source": [
    "### Logistic Regression with BoW"
   ]
  },
  {
   "cell_type": "code",
   "execution_count": 13,
   "metadata": {},
   "outputs": [
    {
     "ename": "NameError",
     "evalue": "name 'log_model' is not defined",
     "output_type": "error",
     "traceback": [
      "\u001b[1;31m---------------------------------------------------------------------------\u001b[0m",
      "\u001b[1;31mNameError\u001b[0m                                 Traceback (most recent call last)",
      "Cell \u001b[1;32mIn[13], line 9\u001b[0m\n\u001b[0;32m      6\u001b[0m log_model1 \u001b[38;5;241m=\u001b[39m LogisticRegression(C\u001b[38;5;241m=\u001b[39mc, max_iter\u001b[38;5;241m=\u001b[39m\u001b[38;5;241m500\u001b[39m, random_state\u001b[38;5;241m=\u001b[39m\u001b[38;5;241m1\u001b[39m)\n\u001b[0;32m      8\u001b[0m \u001b[38;5;66;03m# Train and evaluate model\u001b[39;00m\n\u001b[1;32m----> 9\u001b[0m train_and_eval(model\u001b[38;5;241m=\u001b[39m\u001b[43mlog_model\u001b[49m,\n\u001b[0;32m     10\u001b[0m                trainX\u001b[38;5;241m=\u001b[39mbow_X_train,\n\u001b[0;32m     11\u001b[0m                trainY\u001b[38;5;241m=\u001b[39my_train,\n\u001b[0;32m     12\u001b[0m                testX\u001b[38;5;241m=\u001b[39mbow_X_test,\n\u001b[0;32m     13\u001b[0m                testY\u001b[38;5;241m=\u001b[39my_test)\n",
      "\u001b[1;31mNameError\u001b[0m: name 'log_model' is not defined"
     ]
    }
   ],
   "source": [
    "# Hyperparameters\n",
    "C = [0.001, 0.01, 0.1, 1, 10]\n",
    "\n",
    "for c in C: \n",
    "    # Define model\n",
    "    log_model1 = LogisticRegression(C=c, max_iter=500, random_state=1)\n",
    "    \n",
    "    # Train and evaluate model\n",
    "    train_and_eval(model=log_model,\n",
    "                   trainX=bow_X_train,\n",
    "                   trainY=y_train,\n",
    "                   testX=bow_X_test,\n",
    "                   testY=y_test)"
   ]
  },
  {
   "cell_type": "markdown",
   "metadata": {},
   "source": [
    "### Naive Bayes Classifier with BoW"
   ]
  },
  {
   "cell_type": "code",
   "execution_count": null,
   "metadata": {},
   "outputs": [
    {
     "name": "stdout",
     "output_type": "stream",
     "text": [
      "\n",
      "MultinomialNB(alpha=0)\n",
      "Train accuracy score : 0.89\n",
      "Test accuracy score : 0.86\n",
      "\n",
      " ----------------------------------------\n",
      "\n",
      "MultinomialNB(alpha=0.2)\n",
      "Train accuracy score : 0.88\n",
      "Test accuracy score : 0.86\n",
      "\n",
      " ----------------------------------------\n",
      "\n",
      "MultinomialNB(alpha=0.6)\n",
      "Train accuracy score : 0.87\n",
      "Test accuracy score : 0.86\n",
      "\n",
      " ----------------------------------------\n",
      "\n",
      "MultinomialNB(alpha=0.8)\n",
      "Train accuracy score : 0.87\n",
      "Test accuracy score : 0.86\n",
      "\n",
      " ----------------------------------------\n",
      "\n",
      "MultinomialNB(alpha=1)\n",
      "Train accuracy score : 0.87\n",
      "Test accuracy score : 0.86\n",
      "\n",
      " ----------------------------------------\n"
     ]
    }
   ],
   "source": [
    "alphas = [0, 0.2, 0.6, 0.8, 1]\n",
    "\n",
    "for a  in alphas: \n",
    "    # Define model\n",
    "    nb_model = MultinomialNB(alpha=a)\n",
    "\n",
    "    # Train and evaluate model\n",
    "    train_and_eval(model=nb_model,\n",
    "                   trainX=bow_X_train,\n",
    "                   trainY=y_train,\n",
    "                   testX=bow_X_test,\n",
    "                   testY=y_test)"
   ]
  },
  {
   "cell_type": "markdown",
   "metadata": {},
   "source": [
    "### Logistic Regression with Tf-Idf\n"
   ]
  },
  {
   "cell_type": "code",
   "execution_count": null,
   "metadata": {},
   "outputs": [
    {
     "name": "stdout",
     "output_type": "stream",
     "text": [
      "\n",
      "LogisticRegression(C=10, max_iter=500, random_state=1)\n",
      "Train accuracy score : 0.94\n",
      "Test accuracy score : 0.92\n",
      "\n",
      " ----------------------------------------\n",
      "\n",
      "LogisticRegression(C=10, max_iter=500, random_state=1)\n",
      "Train accuracy score : 0.94\n",
      "Test accuracy score : 0.92\n",
      "\n",
      " ----------------------------------------\n",
      "\n",
      "LogisticRegression(C=10, max_iter=500, random_state=1)\n",
      "Train accuracy score : 0.94\n",
      "Test accuracy score : 0.92\n",
      "\n",
      " ----------------------------------------\n",
      "\n",
      "LogisticRegression(C=10, max_iter=500, random_state=1)\n",
      "Train accuracy score : 0.94\n",
      "Test accuracy score : 0.92\n",
      "\n",
      " ----------------------------------------\n",
      "\n",
      "LogisticRegression(C=10, max_iter=500, random_state=1)\n",
      "Train accuracy score : 0.94\n",
      "Test accuracy score : 0.92\n",
      "\n",
      " ----------------------------------------\n"
     ]
    }
   ],
   "source": [
    "# Hyperparameters\n",
    "C = [0.001, 0.01, 0.1, 1, 10]\n",
    "\n",
    "for c in C: \n",
    "    # Define model\n",
    "    log_model2 = LogisticRegression(C=c, max_iter=500, random_state=1)\n",
    "    \n",
    "    # Train and evaluate model\n",
    "    train_and_eval(model=log_model,\n",
    "                   trainX=tfidf_X_train,\n",
    "                   trainY=y_train,\n",
    "                   testX=tfidf_X_test,\n",
    "                   testY=y_test)"
   ]
  },
  {
   "cell_type": "markdown",
   "metadata": {},
   "source": [
    "### Naive Bayes classifier with Tf-Idf"
   ]
  },
  {
   "cell_type": "code",
   "execution_count": null,
   "metadata": {},
   "outputs": [
    {
     "name": "stdout",
     "output_type": "stream",
     "text": [
      "\n",
      "MultinomialNB(alpha=0)\n",
      "Train accuracy score : 0.9\n",
      "Test accuracy score : 0.87\n",
      "\n",
      " ----------------------------------------\n",
      "\n",
      "MultinomialNB(alpha=0.2)\n",
      "Train accuracy score : 0.9\n",
      "Test accuracy score : 0.87\n",
      "\n",
      " ----------------------------------------\n",
      "\n",
      "MultinomialNB(alpha=0.6)\n",
      "Train accuracy score : 0.89\n",
      "Test accuracy score : 0.87\n",
      "\n",
      " ----------------------------------------\n",
      "\n",
      "MultinomialNB(alpha=0.8)\n",
      "Train accuracy score : 0.89\n",
      "Test accuracy score : 0.87\n",
      "\n",
      " ----------------------------------------\n",
      "\n",
      "MultinomialNB(alpha=1)\n",
      "Train accuracy score : 0.89\n",
      "Test accuracy score : 0.87\n",
      "\n",
      " ----------------------------------------\n"
     ]
    }
   ],
   "source": [
    "alphas = [0, 0.2, 0.6, 0.8, 1]\n",
    "\n",
    "for a  in alphas: \n",
    "    # Define model\n",
    "    nb_model = MultinomialNB(alpha=a)\n",
    "\n",
    "    # Train and evaluate model\n",
    "    train_and_eval(model=nb_model,\n",
    "                   trainX=tfidf_X_train,\n",
    "                   trainY=y_train,\n",
    "                   testX=tfidf_X_test,\n",
    "                   testY=y_test)"
   ]
  },
  {
   "cell_type": "code",
   "execution_count": null,
   "metadata": {},
   "outputs": [],
   "source": [
    "def plot_cm(y_true, y_pred):\n",
    "    plt.figure(figsize=(6,6))\n",
    "    \n",
    "    cm = confusion_matrix(y_true, y_pred, normalize='true')\n",
    "    \n",
    "    sns.heatmap(\n",
    "        cm, annot=True, cmap='Blues', cbar=False, fmt='.2f',\n",
    "        xticklabels=labels, yticklabels=labels)\n",
    "    \n",
    "    return plt.show()"
   ]
  },
  {
   "cell_type": "code",
   "execution_count": null,
   "metadata": {},
   "outputs": [
    {
     "data": {
      "text/html": [
       "<style>#sk-container-id-6 {color: black;}#sk-container-id-6 pre{padding: 0;}#sk-container-id-6 div.sk-toggleable {background-color: white;}#sk-container-id-6 label.sk-toggleable__label {cursor: pointer;display: block;width: 100%;margin-bottom: 0;padding: 0.3em;box-sizing: border-box;text-align: center;}#sk-container-id-6 label.sk-toggleable__label-arrow:before {content: \"▸\";float: left;margin-right: 0.25em;color: #696969;}#sk-container-id-6 label.sk-toggleable__label-arrow:hover:before {color: black;}#sk-container-id-6 div.sk-estimator:hover label.sk-toggleable__label-arrow:before {color: black;}#sk-container-id-6 div.sk-toggleable__content {max-height: 0;max-width: 0;overflow: hidden;text-align: left;background-color: #f0f8ff;}#sk-container-id-6 div.sk-toggleable__content pre {margin: 0.2em;color: black;border-radius: 0.25em;background-color: #f0f8ff;}#sk-container-id-6 input.sk-toggleable__control:checked~div.sk-toggleable__content {max-height: 200px;max-width: 100%;overflow: auto;}#sk-container-id-6 input.sk-toggleable__control:checked~label.sk-toggleable__label-arrow:before {content: \"▾\";}#sk-container-id-6 div.sk-estimator input.sk-toggleable__control:checked~label.sk-toggleable__label {background-color: #d4ebff;}#sk-container-id-6 div.sk-label input.sk-toggleable__control:checked~label.sk-toggleable__label {background-color: #d4ebff;}#sk-container-id-6 input.sk-hidden--visually {border: 0;clip: rect(1px 1px 1px 1px);clip: rect(1px, 1px, 1px, 1px);height: 1px;margin: -1px;overflow: hidden;padding: 0;position: absolute;width: 1px;}#sk-container-id-6 div.sk-estimator {font-family: monospace;background-color: #f0f8ff;border: 1px dotted black;border-radius: 0.25em;box-sizing: border-box;margin-bottom: 0.5em;}#sk-container-id-6 div.sk-estimator:hover {background-color: #d4ebff;}#sk-container-id-6 div.sk-parallel-item::after {content: \"\";width: 100%;border-bottom: 1px solid gray;flex-grow: 1;}#sk-container-id-6 div.sk-label:hover label.sk-toggleable__label {background-color: #d4ebff;}#sk-container-id-6 div.sk-serial::before {content: \"\";position: absolute;border-left: 1px solid gray;box-sizing: border-box;top: 0;bottom: 0;left: 50%;z-index: 0;}#sk-container-id-6 div.sk-serial {display: flex;flex-direction: column;align-items: center;background-color: white;padding-right: 0.2em;padding-left: 0.2em;position: relative;}#sk-container-id-6 div.sk-item {position: relative;z-index: 1;}#sk-container-id-6 div.sk-parallel {display: flex;align-items: stretch;justify-content: center;background-color: white;position: relative;}#sk-container-id-6 div.sk-item::before, #sk-container-id-6 div.sk-parallel-item::before {content: \"\";position: absolute;border-left: 1px solid gray;box-sizing: border-box;top: 0;bottom: 0;left: 50%;z-index: -1;}#sk-container-id-6 div.sk-parallel-item {display: flex;flex-direction: column;z-index: 1;position: relative;background-color: white;}#sk-container-id-6 div.sk-parallel-item:first-child::after {align-self: flex-end;width: 50%;}#sk-container-id-6 div.sk-parallel-item:last-child::after {align-self: flex-start;width: 50%;}#sk-container-id-6 div.sk-parallel-item:only-child::after {width: 0;}#sk-container-id-6 div.sk-dashed-wrapped {border: 1px dashed gray;margin: 0 0.4em 0.5em 0.4em;box-sizing: border-box;padding-bottom: 0.4em;background-color: white;}#sk-container-id-6 div.sk-label label {font-family: monospace;font-weight: bold;display: inline-block;line-height: 1.2em;}#sk-container-id-6 div.sk-label-container {text-align: center;}#sk-container-id-6 div.sk-container {/* jupyter's `normalize.less` sets `[hidden] { display: none; }` but bootstrap.min.css set `[hidden] { display: none !important; }` so we also need the `!important` here to be able to override the default hidden behavior on the sphinx rendered scikit-learn.org. See: https://github.com/scikit-learn/scikit-learn/issues/21755 */display: inline-block !important;position: relative;}#sk-container-id-6 div.sk-text-repr-fallback {display: none;}</style><div id=\"sk-container-id-6\" class=\"sk-top-container\"><div class=\"sk-text-repr-fallback\"><pre>LogisticRegression(C=1, max_iter=500, random_state=1)</pre><b>In a Jupyter environment, please rerun this cell to show the HTML representation or trust the notebook. <br />On GitHub, the HTML representation is unable to render, please try loading this page with nbviewer.org.</b></div><div class=\"sk-container\" hidden><div class=\"sk-item\"><div class=\"sk-estimator sk-toggleable\"><input class=\"sk-toggleable__control sk-hidden--visually\" id=\"sk-estimator-id-6\" type=\"checkbox\" checked><label for=\"sk-estimator-id-6\" class=\"sk-toggleable__label sk-toggleable__label-arrow\">LogisticRegression</label><div class=\"sk-toggleable__content\"><pre>LogisticRegression(C=1, max_iter=500, random_state=1)</pre></div></div></div></div></div>"
      ],
      "text/plain": [
       "LogisticRegression(C=1, max_iter=500, random_state=1)"
      ]
     },
     "execution_count": 46,
     "metadata": {},
     "output_type": "execute_result"
    }
   ],
   "source": [
    "amodel = LogisticRegression(C=1, max_iter=500, random_state=1)\n",
    "amodel.fit(tfidf_X_train, y_train)"
   ]
  },
  {
   "cell_type": "code",
   "execution_count": null,
   "metadata": {},
   "outputs": [],
   "source": [
    "# predictions\n",
    "y_preds_train = amodel.predict(tfidf_X_train)\n",
    "y_preds_test = amodel.predict(tfidf_X_test)"
   ]
  },
  {
   "cell_type": "code",
   "execution_count": null,
   "metadata": {},
   "outputs": [
    {
     "name": "stdout",
     "output_type": "stream",
     "text": [
      "Train accuracy score : 0.92\n",
      "Test accuracy score : 0.91\n"
     ]
    }
   ],
   "source": [
    "print(f\"Train accuracy score : {round(accuracy_score(y_train, y_preds_train),2)}\")\n",
    "print(f\"Test accuracy score : {round(accuracy_score(y_test, y_preds_test),2)}\")"
   ]
  },
  {
   "cell_type": "code",
   "execution_count": null,
   "metadata": {},
   "outputs": [
    {
     "data": {
      "image/png": "[encoded data removed]",
      "text/plain": [
       "<Figure size 600x600 with 1 Axes>"
      ]
     },
     "metadata": {},
     "output_type": "display_data"
    }
   ],
   "source": [
    "plot_cm(y_test, y_preds_test)\n"
   ]
  },
  {
   "cell_type": "code",
   "execution_count": null,
   "metadata": {},
   "outputs": [
    {
     "name": "stdout",
     "output_type": "stream",
     "text": [
      "              precision    recall  f1-score   support\n",
      "\n",
      "    Negative       0.89      0.94      0.91      4036\n",
      "    Positive       0.93      0.88      0.91      4002\n",
      "\n",
      "    accuracy                           0.91      8038\n",
      "   macro avg       0.91      0.91      0.91      8038\n",
      "weighted avg       0.91      0.91      0.91      8038\n",
      "\n"
     ]
    }
   ],
   "source": [
    "\n",
    "print(classification_report(y_test,  y_preds_test, target_names=['Negative', 'Positive']))"
   ]
  },
  {
   "cell_type": "code",
   "execution_count": null,
   "metadata": {},
   "outputs": [],
   "source": [
    "with open(\"transformer.pkl\", \"wb\") as f:\n",
    "    pickle.dump(tfidf_vectorizer, f)\n",
    "    \n",
    "with open(\"model.pkl\", \"wb\") as f:\n",
    "    pickle.dump(amodel, f)"
   ]
  },
  {
   "cell_type": "code",
   "execution_count": null,
   "metadata": {},
   "outputs": [],
   "source": [
    "# labels = ['Negative', 'Neutral', 'Positive']\n",
    "def get_sentiment(review):\n",
    "    # preprocessing\n",
    "    x = preprocessor(review)\n",
    "    #vectorization\n",
    "    x = tfidf_vectorizer.transform([x])\n",
    "    #prediction\n",
    "    y = int(bmodel.predict(x.reshape(1,-1)))\n",
    "    return labels[y]"
   ]
  },
  {
   "cell_type": "code",
   "execution_count": null,
   "metadata": {},
   "outputs": [],
   "source": [
    "labels = ['Negative', 'Positive']\n",
    "\n",
    "def get_sentiment(review):\n",
    "    # vectorization\n",
    "    x = tfidf_vectorizer.transform([review])\n",
    "    # prediction\n",
    "    y = int(amodel.predict(x.reshape(1, -1)))\n",
    "    return labels[y]\n"
   ]
  },
  {
   "cell_type": "code",
   "execution_count": null,
   "metadata": {},
   "outputs": [
    {
     "name": "stdout",
     "output_type": "stream",
     "text": [
      "This is a Positive review!\n"
     ]
    }
   ],
   "source": [
    "# positve review\n",
    "review = \"Áo quá tốt\"\n",
    "print(f\"This is a {get_sentiment(review)} review!\")"
   ]
  },
  {
   "cell_type": "code",
   "execution_count": null,
   "metadata": {},
   "outputs": [
    {
     "name": "stdout",
     "output_type": "stream",
     "text": [
      "This is a Negative review!\n"
     ]
    }
   ],
   "source": [
    "review = \"Hàng không đúng như quảng cáo\"\n",
    "print(f\"This is a {get_sentiment(review)} review!\")"
   ]
  }
 ],
 "metadata": {
  "kernelspec": {
   "display_name": "python38",
   "language": "python",
   "name": "python3"
  },
  "language_info": {
   "codemirror_mode": {
    "name": "ipython",
    "version": 3
   },
   "file_extension": ".py",
   "mimetype": "text/x-python",
   "name": "python",
   "nbconvert_exporter": "python",
   "pygments_lexer": "ipython3",
   "version": "3.9.18"
  }
 },
 "nbformat": 4,
 "nbformat_minor": 2
}
